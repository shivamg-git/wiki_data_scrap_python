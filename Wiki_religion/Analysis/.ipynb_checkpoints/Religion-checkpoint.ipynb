{
 "cells": [
  {
   "cell_type": "code",
   "execution_count": 3,
   "metadata": {},
   "outputs": [
    {
     "ename": "ModuleNotFoundError",
     "evalue": "No module named 'cufflinks'",
     "output_type": "error",
     "traceback": [
      "\u001b[0;31m---------------------------------------------------------------------------\u001b[0m",
      "\u001b[0;31mModuleNotFoundError\u001b[0m                       Traceback (most recent call last)",
      "\u001b[0;32m<ipython-input-3-3d88f4333a60>\u001b[0m in \u001b[0;36m<module>\u001b[0;34m()\u001b[0m\n\u001b[1;32m      2\u001b[0m \u001b[0;32mimport\u001b[0m \u001b[0mmatplotlib\u001b[0m\u001b[0;34m.\u001b[0m\u001b[0mpyplot\u001b[0m \u001b[0;32mas\u001b[0m \u001b[0mplt\u001b[0m\u001b[0;34m\u001b[0m\u001b[0;34m\u001b[0m\u001b[0m\n\u001b[1;32m      3\u001b[0m \u001b[0;32mimport\u001b[0m \u001b[0mseaborn\u001b[0m \u001b[0;32mas\u001b[0m \u001b[0msns\u001b[0m\u001b[0;34m\u001b[0m\u001b[0;34m\u001b[0m\u001b[0m\n\u001b[0;32m----> 4\u001b[0;31m \u001b[0;32mimport\u001b[0m \u001b[0mcufflinks\u001b[0m \u001b[0;32mas\u001b[0m \u001b[0mcf\u001b[0m\u001b[0;34m\u001b[0m\u001b[0;34m\u001b[0m\u001b[0m\n\u001b[0m\u001b[1;32m      5\u001b[0m \u001b[0;32mfrom\u001b[0m \u001b[0mplotly\u001b[0m\u001b[0;34m.\u001b[0m\u001b[0moffline\u001b[0m \u001b[0;32mimport\u001b[0m \u001b[0mdownload_plotlyjs\u001b[0m\u001b[0;34m,\u001b[0m\u001b[0minit_notebook_mode\u001b[0m\u001b[0;34m,\u001b[0m\u001b[0mplot\u001b[0m\u001b[0;34m,\u001b[0m\u001b[0miplot\u001b[0m\u001b[0;34m\u001b[0m\u001b[0;34m\u001b[0m\u001b[0m\n\u001b[1;32m      6\u001b[0m \u001b[0mget_ipython\u001b[0m\u001b[0;34m(\u001b[0m\u001b[0;34m)\u001b[0m\u001b[0;34m.\u001b[0m\u001b[0mrun_line_magic\u001b[0m\u001b[0;34m(\u001b[0m\u001b[0;34m'matplotlib'\u001b[0m\u001b[0;34m,\u001b[0m \u001b[0;34m'inline'\u001b[0m\u001b[0;34m)\u001b[0m\u001b[0;34m\u001b[0m\u001b[0;34m\u001b[0m\u001b[0m\n",
      "\u001b[0;31mModuleNotFoundError\u001b[0m: No module named 'cufflinks'"
     ]
    }
   ],
   "source": [
    "import pandas as pd\n",
    "import matplotlib.pyplot as plt\n",
    "import seaborn as sns\n",
    "import cufflinks as cf\n",
    "from plotly.offline import download_plotlyjs,init_notebook_mode,plot,iplot\n",
    "%matplotlib inline\n",
    "init_notebook_mode(connected=True)\n",
    "cf.go_offline()\n",
    "df=pd.read_excel('religion_data.xlsx')\n",
    "df.head()\n",
    "df.fillna(value='0',inplace=True)"
   ]
  },
  {
   "cell_type": "markdown",
   "metadata": {},
   "source": [
    "# State wise percentage for Hinduism in India"
   ]
  },
  {
   "cell_type": "code",
   "execution_count": 2,
   "metadata": {},
   "outputs": [
    {
     "ename": "NameError",
     "evalue": "name 'df' is not defined",
     "output_type": "error",
     "traceback": [
      "\u001b[0;31m---------------------------------------------------------------------------\u001b[0m",
      "\u001b[0;31mNameError\u001b[0m                                 Traceback (most recent call last)",
      "\u001b[0;32m<ipython-input-2-d426e73f729e>\u001b[0m in \u001b[0;36m<module>\u001b[0;34m()\u001b[0m\n\u001b[1;32m      1\u001b[0m \u001b[0mplt\u001b[0m\u001b[0;34m.\u001b[0m\u001b[0mfigure\u001b[0m\u001b[0;34m(\u001b[0m\u001b[0mfigsize\u001b[0m\u001b[0;34m=\u001b[0m\u001b[0;34m(\u001b[0m\u001b[0;36m100\u001b[0m\u001b[0;34m,\u001b[0m\u001b[0;36m50\u001b[0m\u001b[0;34m)\u001b[0m\u001b[0;34m)\u001b[0m\u001b[0;34m\u001b[0m\u001b[0;34m\u001b[0m\u001b[0m\n\u001b[0;32m----> 2\u001b[0;31m \u001b[0mdf\u001b[0m\u001b[0;34m.\u001b[0m\u001b[0msort_values\u001b[0m\u001b[0;34m(\u001b[0m\u001b[0mby\u001b[0m\u001b[0;34m=\u001b[0m\u001b[0;34m'Hinduism'\u001b[0m\u001b[0;34m,\u001b[0m\u001b[0minplace\u001b[0m\u001b[0;34m=\u001b[0m\u001b[0;32mTrue\u001b[0m\u001b[0;34m)\u001b[0m\u001b[0;34m\u001b[0m\u001b[0;34m\u001b[0m\u001b[0m\n\u001b[0m\u001b[1;32m      3\u001b[0m \u001b[0msns\u001b[0m\u001b[0;34m.\u001b[0m\u001b[0mset_context\u001b[0m\u001b[0;34m(\u001b[0m\u001b[0;34m'poster'\u001b[0m\u001b[0;34m,\u001b[0m\u001b[0mfont_scale\u001b[0m\u001b[0;34m=\u001b[0m\u001b[0;36m5\u001b[0m\u001b[0;34m)\u001b[0m\u001b[0;34m\u001b[0m\u001b[0;34m\u001b[0m\u001b[0m\n\u001b[1;32m      4\u001b[0m \u001b[0msns\u001b[0m\u001b[0;34m.\u001b[0m\u001b[0mbarplot\u001b[0m\u001b[0;34m(\u001b[0m\u001b[0mx\u001b[0m\u001b[0;34m=\u001b[0m\u001b[0;34m'Hinduism'\u001b[0m\u001b[0;34m,\u001b[0m\u001b[0my\u001b[0m\u001b[0;34m=\u001b[0m\u001b[0;34m'States'\u001b[0m\u001b[0;34m,\u001b[0m\u001b[0mdata\u001b[0m\u001b[0;34m=\u001b[0m\u001b[0mdf\u001b[0m\u001b[0;34m,\u001b[0m\u001b[0mpalette\u001b[0m\u001b[0;34m=\u001b[0m\u001b[0;34m'Blues_d'\u001b[0m\u001b[0;34m)\u001b[0m\u001b[0;34m\u001b[0m\u001b[0;34m\u001b[0m\u001b[0m\n\u001b[1;32m      5\u001b[0m \u001b[0mplt\u001b[0m\u001b[0;34m.\u001b[0m\u001b[0mtight_layout\u001b[0m\u001b[0;34m(\u001b[0m\u001b[0;34m)\u001b[0m\u001b[0;34m\u001b[0m\u001b[0;34m\u001b[0m\u001b[0m\n",
      "\u001b[0;31mNameError\u001b[0m: name 'df' is not defined"
     ]
    },
    {
     "data": {
      "text/plain": [
       "<Figure size 7200x3600 with 0 Axes>"
      ]
     },
     "metadata": {},
     "output_type": "display_data"
    }
   ],
   "source": [
    "plt.figure(figsize=(100,50))\n",
    "df.sort_values(by='Hinduism',inplace=True)\n",
    "sns.set_context('poster',font_scale=5)\n",
    "sns.barplot(x='Hinduism',y='States',data=df,palette='Blues_d')\n",
    "plt.tight_layout()"
   ]
  },
  {
   "cell_type": "markdown",
   "metadata": {},
   "source": [
    "# Interactive Graph for Hinduism in all states "
   ]
  },
  {
   "cell_type": "code",
   "execution_count": 111,
   "metadata": {},
   "outputs": [
    {
     "data": {
      "application/vnd.plotly.v1+json": {
       "config": {
        "linkText": "Export to plot.ly",
        "plotlyServerURL": "https://plot.ly",
        "showLink": true
       },
       "data": [
        {
         "line": {
          "color": "rgba(255, 153, 51, 1.0)",
          "dash": "solid",
          "shape": "linear",
          "width": 1.3
         },
         "mode": "lines",
         "name": "States",
         "text": "",
         "type": "scatter",
         "uid": "d9bd3249-d6e6-4d8a-8220-7e98f814d1dc",
         "x": [
          2.75,
          8.74,
          11.52,
          22.11,
          28.43,
          29.04,
          38.49,
          41.39,
          54.73,
          61.47,
          66.08,
          67.8,
          69.44,
          70.54,
          79.73,
          79.8,
          81.68,
          82.69,
          82.97,
          87.3,
          87.46,
          87.58,
          88.49,
          88.57,
          90.89,
          93.25,
          93.63,
          93.93,
          95.17
         ],
         "y": [
          "Mizoram",
          "Nagaland",
          "Meghalaya",
          "Lakshadweep",
          "J & K",
          "Arunachal Pradesh",
          "Punjab",
          "Manipur",
          "Kerala",
          "Assam",
          "Goa",
          "Jharkhand",
          "Andaman & Nicobar",
          "West Bengal",
          "Uttar_Pradesh",
          "Maharashtra",
          "Delhi",
          "Bihar",
          "Uttarakhand",
          "Puducherry",
          "Haryana",
          "Tamil Nadu",
          "Rajasthan",
          "Gujarat",
          "Madhya Pradesh",
          "Chhattisgarh",
          "Odisha",
          "Dadra & Nagra",
          "Himachal Pradesh"
         ]
        }
       ],
       "layout": {
        "legend": {
         "bgcolor": "#F5F6F9",
         "font": {
          "color": "#4D5663"
         }
        },
        "paper_bgcolor": "#F5F6F9",
        "plot_bgcolor": "#F5F6F9",
        "title": {
         "font": {
          "color": "#4D5663"
         }
        },
        "xaxis": {
         "gridcolor": "#E1E5ED",
         "showgrid": true,
         "tickfont": {
          "color": "#4D5663"
         },
         "title": {
          "font": {
           "color": "#4D5663"
          },
          "text": ""
         },
         "zerolinecolor": "#E1E5ED"
        },
        "yaxis": {
         "gridcolor": "#E1E5ED",
         "showgrid": true,
         "tickfont": {
          "color": "#4D5663"
         },
         "title": {
          "font": {
           "color": "#4D5663"
          },
          "text": ""
         },
         "zerolinecolor": "#E1E5ED"
        }
       }
      },
      "text/html": [
       "<div>\n",
       "        \n",
       "        \n",
       "            <div id=\"14f5f8cb-f012-4666-897b-c088fe863b8f\" class=\"plotly-graph-div\" style=\"height:525px; width:100%;\"></div>\n",
       "            <script type=\"text/javascript\">\n",
       "                require([\"plotly\"], function(Plotly) {\n",
       "                    window.PLOTLYENV=window.PLOTLYENV || {};\n",
       "                    window.PLOTLYENV.BASE_URL='https://plot.ly';\n",
       "                    \n",
       "                if (document.getElementById(\"14f5f8cb-f012-4666-897b-c088fe863b8f\")) {\n",
       "                    Plotly.newPlot(\n",
       "                        '14f5f8cb-f012-4666-897b-c088fe863b8f',\n",
       "                        [{\"line\": {\"color\": \"rgba(255, 153, 51, 1.0)\", \"dash\": \"solid\", \"shape\": \"linear\", \"width\": 1.3}, \"mode\": \"lines\", \"name\": \"States\", \"text\": \"\", \"type\": \"scatter\", \"uid\": \"d9bd3249-d6e6-4d8a-8220-7e98f814d1dc\", \"x\": [2.75, 8.74, 11.52, 22.11, 28.43, 29.04, 38.49, 41.39, 54.73, 61.47, 66.08, 67.8, 69.44, 70.54, 79.73, 79.8, 81.68, 82.69, 82.97, 87.3, 87.46, 87.58, 88.49, 88.57, 90.89, 93.25, 93.63, 93.93, 95.17], \"y\": [\"Mizoram\", \"Nagaland\", \"Meghalaya\", \"Lakshadweep\", \"J & K\", \"Arunachal Pradesh\", \"Punjab\", \"Manipur\", \"Kerala\", \"Assam\", \"Goa\", \"Jharkhand\", \"Andaman & Nicobar\", \"West Bengal\", \"Uttar_Pradesh\", \"Maharashtra\", \"Delhi\", \"Bihar\", \"Uttarakhand\", \"Puducherry\", \"Haryana\", \"Tamil Nadu\", \"Rajasthan\", \"Gujarat\", \"Madhya Pradesh\", \"Chhattisgarh\", \"Odisha\", \"Dadra & Nagra\", \"Himachal Pradesh\"]}],\n",
       "                        {\"legend\": {\"bgcolor\": \"#F5F6F9\", \"font\": {\"color\": \"#4D5663\"}}, \"paper_bgcolor\": \"#F5F6F9\", \"plot_bgcolor\": \"#F5F6F9\", \"title\": {\"font\": {\"color\": \"#4D5663\"}}, \"xaxis\": {\"gridcolor\": \"#E1E5ED\", \"showgrid\": true, \"tickfont\": {\"color\": \"#4D5663\"}, \"title\": {\"font\": {\"color\": \"#4D5663\"}, \"text\": \"\"}, \"zerolinecolor\": \"#E1E5ED\"}, \"yaxis\": {\"gridcolor\": \"#E1E5ED\", \"showgrid\": true, \"tickfont\": {\"color\": \"#4D5663\"}, \"title\": {\"font\": {\"color\": \"#4D5663\"}, \"text\": \"\"}, \"zerolinecolor\": \"#E1E5ED\"}},\n",
       "                        {\"showLink\": true, \"linkText\": \"Export to plot.ly\", \"plotlyServerURL\": \"https://plot.ly\", \"responsive\": true}\n",
       "                    ).then(function(){\n",
       "                            \n",
       "var gd = document.getElementById('14f5f8cb-f012-4666-897b-c088fe863b8f');\n",
       "var x = new MutationObserver(function (mutations, observer) {{\n",
       "        var display = window.getComputedStyle(gd).display;\n",
       "        if (!display || display === 'none') {{\n",
       "            console.log([gd, 'removed!']);\n",
       "            Plotly.purge(gd);\n",
       "            observer.disconnect();\n",
       "        }}\n",
       "}});\n",
       "\n",
       "// Listen for the removal of the full notebook cells\n",
       "var notebookContainer = gd.closest('#notebook-container');\n",
       "if (notebookContainer) {{\n",
       "    x.observe(notebookContainer, {childList: true});\n",
       "}}\n",
       "\n",
       "// Listen for the clearing of the current output cell\n",
       "var outputEl = gd.closest('.output');\n",
       "if (outputEl) {{\n",
       "    x.observe(outputEl, {childList: true});\n",
       "}}\n",
       "\n",
       "                        })\n",
       "                };\n",
       "                });\n",
       "            </script>\n",
       "        </div>"
      ]
     },
     "metadata": {},
     "output_type": "display_data"
    },
    {
     "data": {
      "text/plain": [
       "<Figure size 7200x2880 with 0 Axes>"
      ]
     },
     "metadata": {},
     "output_type": "display_data"
    }
   ],
   "source": [
    "plt.figure(figsize=(100,40))\n",
    "df.sort_values(by='Hinduism',inplace=True)\n",
    "sns.set_context('poster',font_scale=5)\n",
    "fig1=df.iplot(kind='scatter',x='Hinduism',y='States')\n",
    "plt.tight_layout()"
   ]
  },
  {
   "cell_type": "markdown",
   "metadata": {},
   "source": [
    "# Minimum and Maximum percentage of each religion in India"
   ]
  },
  {
   "cell_type": "code",
   "execution_count": 132,
   "metadata": {},
   "outputs": [
    {
     "data": {
      "application/vnd.plotly.v1+json": {
       "config": {
        "linkText": "Export to plot.ly",
        "plotlyServerURL": "https://plot.ly",
        "showLink": true
       },
       "data": [
        {
         "boxpoints": false,
         "line": {
          "width": 1.3
         },
         "marker": {
          "color": "rgba(255, 153, 51, 1.0)"
         },
         "name": "States",
         "orientation": "v",
         "type": "box",
         "uid": "a0f2d5f6-e644-44e6-83af-226db505e6df",
         "y": [
          "Mizoram",
          "Nagaland",
          "Meghalaya",
          "Lakshadweep",
          "J & K",
          "Arunachal Pradesh",
          "Punjab",
          "Manipur",
          "Kerala",
          "Assam",
          "Goa",
          "Jharkhand",
          "Andaman & Nicobar",
          "West Bengal",
          "Uttar_Pradesh",
          "Maharashtra",
          "Delhi",
          "Bihar",
          "Uttarakhand",
          "Puducherry",
          "Haryana",
          "Tamil Nadu",
          "Rajasthan",
          "Gujarat",
          "Madhya Pradesh",
          "Chhattisgarh",
          "Odisha",
          "Dadra & Nagra",
          "Himachal Pradesh"
         ]
        },
        {
         "boxpoints": false,
         "line": {
          "width": 1.3
         },
         "marker": {
          "color": "rgba(55, 128, 191, 1.0)"
         },
         "name": "Hinduism",
         "orientation": "v",
         "type": "box",
         "uid": "336ef6d9-3ea4-41e8-81be-ebaf6509bac8",
         "y": [
          2.75,
          8.74,
          11.52,
          22.11,
          28.43,
          29.04,
          38.49,
          41.39,
          54.73,
          61.47,
          66.08,
          67.8,
          69.44,
          70.54,
          79.73,
          79.8,
          81.68,
          82.69,
          82.97,
          87.3,
          87.46,
          87.58,
          88.49,
          88.57,
          90.89,
          93.25,
          93.63,
          93.93,
          95.17
         ]
        },
        {
         "boxpoints": false,
         "line": {
          "width": 1.3
         },
         "marker": {
          "color": "rgba(50, 171, 96, 1.0)"
         },
         "name": "Islam",
         "orientation": "v",
         "type": "box",
         "uid": "87271979-900c-440d-a282-11085b125ce4",
         "y": [
          1.35,
          2.44,
          4.39,
          77.58,
          68.31,
          1.9,
          1.93,
          8.4,
          26.56,
          34.22,
          8.33,
          14.5,
          8.51,
          27.01,
          19.26,
          11.5,
          12.86,
          16.87,
          13.95,
          6,
          7.03,
          5.86,
          9.07,
          9.67,
          6.57,
          2.01,
          2.17,
          3.75,
          2.18
         ]
        },
        {
         "boxpoints": false,
         "line": {
          "width": 1.3
         },
         "marker": {
          "color": "rgba(128, 0, 128, 1.0)"
         },
         "name": "Christianity",
         "orientation": "v",
         "type": "box",
         "uid": "9ccde27a-7fa0-4151-919d-2b1de4c116dd",
         "y": [
          87.16,
          88.1,
          74.59,
          0.05,
          0.28,
          30.26,
          1.26,
          41.29,
          18.38,
          3.74,
          25.1,
          4.3,
          21.7,
          0.72,
          0.18,
          1,
          0.87,
          0.12,
          0.37,
          6.2,
          0.2,
          6.12,
          0.14,
          0.52,
          0.29,
          1.92,
          2.76,
          1.48,
          0.18
         ]
        },
        {
         "boxpoints": false,
         "line": {
          "width": 1.3
         },
         "marker": {
          "color": "rgba(219, 64, 82, 1.0)"
         },
         "name": "Buddhism",
         "orientation": "v",
         "type": "box",
         "uid": "e001525b-52e8-482b-bc31-9a6c7304c4dd",
         "y": [
          8.51,
          0.34,
          0.33,
          0,
          0.89,
          "0",
          0.12,
          0.25,
          "0",
          0.18,
          0.08,
          "0",
          0.08,
          0.31,
          0.1,
          5.8,
          0.11,
          "0",
          0.15,
          "0",
          0.03,
          0.01,
          0.02,
          0.05,
          0.3,
          0.27,
          0.03,
          0.18,
          1.15
         ]
        },
        {
         "boxpoints": false,
         "line": {
          "width": 1.3
         },
         "marker": {
          "color": "rgba(0, 128, 128, 1.0)"
         },
         "name": "Sikhism",
         "orientation": "v",
         "type": "box",
         "uid": "cca3a2d1-6dfd-4f6b-96a7-833891897a23",
         "y": [
          0.03,
          0.1,
          0.1,
          0,
          1.87,
          "0",
          57.69,
          0.05,
          "0",
          0.07,
          0.1,
          "0",
          0.33,
          0.07,
          0.32,
          0.2,
          3.4,
          "0",
          2.34,
          "0",
          4.91,
          0.02,
          1.27,
          0.1,
          0.2,
          0.27,
          1.05,
          0.06,
          1.16
         ]
        },
        {
         "boxpoints": false,
         "line": {
          "width": 1.3
         },
         "marker": {
          "color": "rgba(255, 255, 51, 1.0)"
         },
         "name": "Jainism",
         "orientation": "v",
         "type": "box",
         "uid": "6641b199-9b4a-4acd-872c-289508a3777e",
         "y": [
          0.03,
          0.13,
          0.02,
          0,
          0.01,
          "0",
          0.16,
          0.06,
          "0",
          0.08,
          0.08,
          "0",
          "0",
          0.07,
          0.11,
          1.2,
          0.99,
          "0",
          0.09,
          "0",
          0.21,
          0.12,
          0.91,
          0.96,
          0.78,
          0.24,
          0.02,
          0.34,
          0.03
         ]
        },
        {
         "boxpoints": false,
         "line": {
          "width": 1.3
         },
         "marker": {
          "color": "rgba(128, 128, 0, 1.0)"
         },
         "name": "Other",
         "orientation": "v",
         "type": "box",
         "uid": "45b0976f-3f75-43ca-89e6-a097ceb29aa9",
         "y": [
          0.16,
          "0",
          "0",
          0,
          0.01,
          0.84,
          0.35,
          "0",
          0.01,
          0.16,
          0.2,
          "0",
          0.5,
          1.03,
          "0",
          0.5,
          0.09,
          0.31,
          "0",
          "0",
          "0",
          0.3,
          0.01,
          "0",
          0.83,
          "0",
          "0",
          0.08,
          0.2
         ]
        },
        {
         "boxpoints": false,
         "line": {
          "width": 1.3
         },
         "marker": {
          "color": "rgba(251, 128, 114, 1.0)"
         },
         "name": "Naga",
         "orientation": "v",
         "type": "box",
         "uid": "9d93676d-b8e3-4a9b-b5c8-79e9fdc94dc2",
         "y": [
          "0",
          0.14,
          "0",
          "0",
          "0",
          "0",
          "0",
          "0",
          "0",
          "0",
          "0",
          "0",
          "0",
          "0",
          "0",
          "0",
          "0",
          "0",
          "0",
          "0",
          "0",
          "0",
          "0",
          "0",
          "0",
          "0",
          "0",
          "0",
          "0"
         ]
        },
        {
         "boxpoints": false,
         "line": {
          "width": 1.3
         },
         "marker": {
          "color": "rgba(128, 177, 211, 1.0)"
         },
         "name": "Animism",
         "orientation": "v",
         "type": "box",
         "uid": "9b4f33e1-bcea-44ae-a69e-2e1a603af9f6",
         "y": [
          "0",
          "0",
          "0",
          "0",
          "0",
          "0",
          "0",
          "0",
          "0",
          0.09,
          "0",
          "0",
          "0",
          "0",
          "0",
          "0",
          "0",
          "0",
          "0",
          "0",
          "0",
          "0",
          "0",
          "0",
          "0",
          "0",
          "0",
          "0",
          "0"
         ]
        },
        {
         "boxpoints": false,
         "line": {
          "width": 1.3
         },
         "marker": {
          "color": "rgba(128, 177, 211, 0.8999999999999999)"
         },
         "name": "Sarnaism",
         "orientation": "v",
         "type": "box",
         "uid": "ebbf81e2-cc14-4591-aca4-04359ac8881c",
         "y": [
          "0",
          "0",
          "0",
          "0",
          "0",
          "0",
          "0",
          "0",
          "0",
          "0",
          "0",
          12.8,
          "0",
          "0",
          "0",
          "0",
          "0",
          "0",
          "0",
          "0",
          "0",
          "0",
          "0",
          "0",
          "0",
          3.01,
          1.14,
          "0",
          "0"
         ]
        },
        {
         "boxpoints": false,
         "line": {
          "width": 1.3
         },
         "marker": {
          "color": "rgba(255, 153, 51, 0.8999999999999999)"
         },
         "name": "Atheist",
         "orientation": "v",
         "type": "box",
         "uid": "60797c1f-8f22-4ef2-a0ce-d157dc171cd7",
         "y": [
          "0",
          "0",
          "0",
          "0",
          0.001,
          "0",
          "0",
          "0",
          "0",
          "0",
          "0",
          "0",
          "0",
          "0",
          "0",
          "0",
          "0",
          "0",
          "0",
          "0",
          "0",
          "0",
          "0",
          "0",
          "0",
          "0",
          "0",
          0.001,
          "0"
         ]
        },
        {
         "boxpoints": false,
         "line": {
          "width": 1.3
         },
         "marker": {
          "color": "rgba(55, 128, 191, 0.8999999999999999)"
         },
         "name": "NONE",
         "orientation": "v",
         "type": "box",
         "uid": "ee87d332-d12b-4d2c-abe2-902b93ebd06e",
         "y": [
          "0",
          0.1,
          "0",
          "0",
          "0",
          "0",
          "0",
          0.38,
          "0",
          "0",
          "0",
          0.6,
          "0",
          "0",
          "0",
          "0",
          "0",
          "0",
          "0",
          "0",
          "0",
          "0",
          0.1,
          0.1,
          0.13,
          "0",
          "0",
          "0",
          "0"
         ]
        },
        {
         "boxpoints": false,
         "line": {
          "width": 1.3
         },
         "marker": {
          "color": "rgba(50, 171, 96, 0.8999999999999999)"
         },
         "name": "Sanamahism",
         "orientation": "v",
         "type": "box",
         "uid": "8941e898-3d74-47d0-a6fe-3bae3f9bc21c",
         "y": [
          "0",
          "0",
          "0",
          "0",
          "0",
          "0",
          "0",
          7.78,
          "0",
          "0",
          "0",
          "0",
          "0",
          "0",
          "0",
          "0",
          "0",
          "0",
          "0",
          "0",
          "0",
          "0",
          "0",
          "0",
          "0",
          "0",
          "0",
          "0",
          "0"
         ]
        },
        {
         "boxpoints": false,
         "line": {
          "width": 1.3
         },
         "marker": {
          "color": "rgba(128, 0, 128, 0.8999999999999999)"
         },
         "name": "Others",
         "orientation": "v",
         "type": "box",
         "uid": "8e91fdf0-33a7-4aab-a9de-b23acbc1e324",
         "y": [
          "0",
          "0",
          0.35,
          "0",
          "0",
          "0",
          "0",
          "0",
          "0",
          "0",
          "0",
          "0",
          "0",
          "0",
          0.3,
          "0",
          "0",
          "0",
          0.13,
          "0",
          0.18,
          "0",
          "0",
          0.03,
          "0",
          "0",
          "0",
          "0",
          "0"
         ]
        },
        {
         "boxpoints": false,
         "line": {
          "width": 1.3
         },
         "marker": {
          "color": "rgba(219, 64, 82, 0.8999999999999999)"
         },
         "name": "Tibetan",
         "orientation": "v",
         "type": "box",
         "uid": "6d38745c-5227-4c24-aeb3-46c77c0a6fca",
         "y": [
          "0",
          "0",
          "0",
          "0",
          "0",
          11.76,
          "0",
          "0",
          "0",
          "0",
          "0",
          "0",
          "0",
          "0",
          "0",
          "0",
          "0",
          "0",
          "0",
          "0",
          "0",
          "0",
          "0",
          "0",
          "0",
          "0",
          "0",
          "0",
          "0"
         ]
        },
        {
         "boxpoints": false,
         "line": {
          "width": 1.3
         },
         "marker": {
          "color": "rgba(0, 128, 128, 0.8999999999999999)"
         },
         "name": "Irreligion",
         "orientation": "v",
         "type": "box",
         "uid": "43be41d9-f8e0-43c4-bf6a-e914769b74b1",
         "y": [
          "0",
          "0",
          "0",
          "0",
          "0",
          "0",
          "0",
          "0",
          "0",
          "0",
          "0",
          "0",
          "0",
          0.25,
          "0",
          "0",
          "0",
          "0",
          "0",
          "0",
          "0",
          "0",
          "0",
          "0",
          "0",
          "0",
          "0",
          "0",
          "0"
         ]
        },
        {
         "boxpoints": false,
         "line": {
          "width": 1.3
         },
         "marker": {
          "color": "rgba(255, 255, 51, 0.8999999999999999)"
         },
         "name": "Heraka",
         "orientation": "v",
         "type": "box",
         "uid": "fde923ee-4ecb-424a-805d-5923e5df0967",
         "y": [
          "0",
          "0",
          "0",
          "0",
          "0",
          "0",
          "0",
          0.23,
          "0",
          "0",
          "0",
          "0",
          "0",
          "0",
          "0",
          "0",
          "0",
          "0",
          "0",
          "0",
          "0",
          "0",
          "0",
          "0",
          "0",
          "0",
          "0",
          "0",
          "0"
         ]
        },
        {
         "boxpoints": false,
         "line": {
          "width": 1.3
         },
         "marker": {
          "color": "rgba(128, 128, 0, 0.8999999999999999)"
         },
         "name": "Donyi-Polo",
         "orientation": "v",
         "type": "box",
         "uid": "697e0c43-dec9-4568-b1da-6fe8eabc4517",
         "y": [
          "0",
          "0",
          "0",
          "0",
          "0",
          26.2,
          "0",
          "0",
          "0",
          "0",
          "0",
          "0",
          "0",
          "0",
          "0",
          "0",
          "0",
          "0",
          "0",
          "0",
          "0",
          "0",
          "0",
          "0",
          "0",
          "0",
          "0",
          "0",
          "0"
         ]
        },
        {
         "boxpoints": false,
         "line": {
          "width": 1.3
         },
         "marker": {
          "color": "rgba(251, 128, 114, 0.8999999999999999)"
         },
         "name": "Atheism",
         "orientation": "v",
         "type": "box",
         "uid": "7ff89ed9-9622-4e6c-b578-3aa426bea468",
         "y": [
          "0",
          "0",
          "0",
          0,
          "0",
          "0",
          "0",
          "0",
          "0",
          "0",
          "0",
          "0",
          "0",
          "0",
          "0",
          "0",
          "0",
          "0",
          "0",
          "0",
          "0",
          "0",
          "0",
          "0",
          "0",
          "0",
          "0",
          "0",
          "0"
         ]
        },
        {
         "boxpoints": false,
         "line": {
          "width": 1.3
         },
         "marker": {
          "color": "rgba(251, 128, 114, 0.7999999999999998)"
         },
         "name": "Tribal",
         "orientation": "v",
         "type": "box",
         "uid": "348aeb2a-ded5-4e7b-ab6e-f99f14d4695b",
         "y": [
          "0",
          "0",
          8.7,
          "0",
          "0",
          "0",
          "0",
          "0",
          "0",
          "0",
          "0",
          "0",
          "0",
          "0",
          "0",
          "0",
          "0",
          "0",
          "0",
          "0",
          "0",
          "0",
          "0",
          "0",
          "0",
          "0",
          "0",
          "0",
          "0"
         ]
        },
        {
         "boxpoints": false,
         "line": {
          "width": 1.3
         },
         "marker": {
          "color": "rgba(128, 177, 211, 0.7999999999999998)"
         },
         "name": "Judaism",
         "orientation": "v",
         "type": "box",
         "uid": "0cd612f4-5c18-4777-a3fd-6b530d567627",
         "y": [
          "0",
          "0",
          "0",
          "0",
          "0",
          "0",
          "0",
          0.07,
          "0",
          "0",
          "0",
          "0",
          "0",
          "0",
          "0",
          "0",
          "0",
          "0",
          "0",
          "0",
          "0",
          "0",
          "0",
          "0",
          "0",
          "0",
          "0",
          "0",
          "0"
         ]
        }
       ],
       "layout": {
        "legend": {
         "bgcolor": "#F5F6F9",
         "font": {
          "color": "#4D5663"
         }
        },
        "paper_bgcolor": "#F5F6F9",
        "plot_bgcolor": "#F5F6F9",
        "title": {
         "font": {
          "color": "#4D5663"
         }
        },
        "xaxis": {
         "gridcolor": "#E1E5ED",
         "showgrid": true,
         "tickfont": {
          "color": "#4D5663"
         },
         "title": {
          "font": {
           "color": "#4D5663"
          },
          "text": ""
         },
         "zerolinecolor": "#E1E5ED"
        },
        "yaxis": {
         "gridcolor": "#E1E5ED",
         "showgrid": true,
         "tickfont": {
          "color": "#4D5663"
         },
         "title": {
          "font": {
           "color": "#4D5663"
          },
          "text": ""
         },
         "zerolinecolor": "#E1E5ED"
        }
       }
      },
      "text/html": [
       "<div>\n",
       "        \n",
       "        \n",
       "            <div id=\"866586a4-8b27-43ae-a4ca-cc9a0ddf5696\" class=\"plotly-graph-div\" style=\"height:525px; width:100%;\"></div>\n",
       "            <script type=\"text/javascript\">\n",
       "                require([\"plotly\"], function(Plotly) {\n",
       "                    window.PLOTLYENV=window.PLOTLYENV || {};\n",
       "                    window.PLOTLYENV.BASE_URL='https://plot.ly';\n",
       "                    \n",
       "                if (document.getElementById(\"866586a4-8b27-43ae-a4ca-cc9a0ddf5696\")) {\n",
       "                    Plotly.newPlot(\n",
       "                        '866586a4-8b27-43ae-a4ca-cc9a0ddf5696',\n",
       "                        [{\"boxpoints\": false, \"line\": {\"width\": 1.3}, \"marker\": {\"color\": \"rgba(255, 153, 51, 1.0)\"}, \"name\": \"States\", \"orientation\": \"v\", \"type\": \"box\", \"uid\": \"a0f2d5f6-e644-44e6-83af-226db505e6df\", \"y\": [\"Mizoram\", \"Nagaland\", \"Meghalaya\", \"Lakshadweep\", \"J & K\", \"Arunachal Pradesh\", \"Punjab\", \"Manipur\", \"Kerala\", \"Assam\", \"Goa\", \"Jharkhand\", \"Andaman & Nicobar\", \"West Bengal\", \"Uttar_Pradesh\", \"Maharashtra\", \"Delhi\", \"Bihar\", \"Uttarakhand\", \"Puducherry\", \"Haryana\", \"Tamil Nadu\", \"Rajasthan\", \"Gujarat\", \"Madhya Pradesh\", \"Chhattisgarh\", \"Odisha\", \"Dadra & Nagra\", \"Himachal Pradesh\"]}, {\"boxpoints\": false, \"line\": {\"width\": 1.3}, \"marker\": {\"color\": \"rgba(55, 128, 191, 1.0)\"}, \"name\": \"Hinduism\", \"orientation\": \"v\", \"type\": \"box\", \"uid\": \"336ef6d9-3ea4-41e8-81be-ebaf6509bac8\", \"y\": [2.75, 8.74, 11.52, 22.11, 28.43, 29.04, 38.49, 41.39, 54.73, 61.47, 66.08, 67.8, 69.44, 70.54, 79.73, 79.8, 81.68, 82.69, 82.97, 87.3, 87.46, 87.58, 88.49, 88.57, 90.89, 93.25, 93.63, 93.93, 95.17]}, {\"boxpoints\": false, \"line\": {\"width\": 1.3}, \"marker\": {\"color\": \"rgba(50, 171, 96, 1.0)\"}, \"name\": \"Islam\", \"orientation\": \"v\", \"type\": \"box\", \"uid\": \"87271979-900c-440d-a282-11085b125ce4\", \"y\": [1.35, 2.44, 4.39, 77.58, 68.31, 1.9, 1.93, 8.4, 26.56, 34.22, 8.33, 14.5, 8.51, 27.01, 19.26, 11.5, 12.86, 16.87, 13.95, 6.0, 7.03, 5.86, 9.07, 9.67, 6.57, 2.01, 2.17, 3.75, 2.18]}, {\"boxpoints\": false, \"line\": {\"width\": 1.3}, \"marker\": {\"color\": \"rgba(128, 0, 128, 1.0)\"}, \"name\": \"Christianity\", \"orientation\": \"v\", \"type\": \"box\", \"uid\": \"9ccde27a-7fa0-4151-919d-2b1de4c116dd\", \"y\": [87.16, 88.1, 74.59, 0.05, 0.28, 30.26, 1.26, 41.29, 18.38, 3.74, 25.1, 4.3, 21.7, 0.72, 0.18, 1.0, 0.87, 0.12, 0.37, 6.2, 0.2, 6.12, 0.14, 0.52, 0.29, 1.92, 2.76, 1.48, 0.18]}, {\"boxpoints\": false, \"line\": {\"width\": 1.3}, \"marker\": {\"color\": \"rgba(219, 64, 82, 1.0)\"}, \"name\": \"Buddhism\", \"orientation\": \"v\", \"type\": \"box\", \"uid\": \"e001525b-52e8-482b-bc31-9a6c7304c4dd\", \"y\": [8.51, 0.34, 0.33, 0.0, 0.89, \"0\", 0.12, 0.25, \"0\", 0.18, 0.08, \"0\", 0.08, 0.31, 0.1, 5.8, 0.11, \"0\", 0.15, \"0\", 0.03, 0.01, 0.02, 0.05, 0.3, 0.27, 0.03, 0.18, 1.15]}, {\"boxpoints\": false, \"line\": {\"width\": 1.3}, \"marker\": {\"color\": \"rgba(0, 128, 128, 1.0)\"}, \"name\": \"Sikhism\", \"orientation\": \"v\", \"type\": \"box\", \"uid\": \"cca3a2d1-6dfd-4f6b-96a7-833891897a23\", \"y\": [0.03, 0.1, 0.1, 0.0, 1.87, \"0\", 57.69, 0.05, \"0\", 0.07, 0.1, \"0\", 0.33, 0.07, 0.32, 0.2, 3.4, \"0\", 2.34, \"0\", 4.91, 0.02, 1.27, 0.1, 0.2, 0.27, 1.05, 0.06, 1.16]}, {\"boxpoints\": false, \"line\": {\"width\": 1.3}, \"marker\": {\"color\": \"rgba(255, 255, 51, 1.0)\"}, \"name\": \"Jainism\", \"orientation\": \"v\", \"type\": \"box\", \"uid\": \"6641b199-9b4a-4acd-872c-289508a3777e\", \"y\": [0.03, 0.13, 0.02, 0.0, 0.01, \"0\", 0.16, 0.06, \"0\", 0.08, 0.08, \"0\", \"0\", 0.07, 0.11, 1.2, 0.99, \"0\", 0.09, \"0\", 0.21, 0.12, 0.91, 0.96, 0.78, 0.24, 0.02, 0.34, 0.03]}, {\"boxpoints\": false, \"line\": {\"width\": 1.3}, \"marker\": {\"color\": \"rgba(128, 128, 0, 1.0)\"}, \"name\": \"Other\", \"orientation\": \"v\", \"type\": \"box\", \"uid\": \"45b0976f-3f75-43ca-89e6-a097ceb29aa9\", \"y\": [0.16, \"0\", \"0\", 0.0, 0.01, 0.84, 0.35, \"0\", 0.01, 0.16, 0.2, \"0\", 0.5, 1.03, \"0\", 0.5, 0.09, 0.31, \"0\", \"0\", \"0\", 0.3, 0.01, \"0\", 0.83, \"0\", \"0\", 0.08, 0.2]}, {\"boxpoints\": false, \"line\": {\"width\": 1.3}, \"marker\": {\"color\": \"rgba(251, 128, 114, 1.0)\"}, \"name\": \"Naga\", \"orientation\": \"v\", \"type\": \"box\", \"uid\": \"9d93676d-b8e3-4a9b-b5c8-79e9fdc94dc2\", \"y\": [\"0\", 0.14, \"0\", \"0\", \"0\", \"0\", \"0\", \"0\", \"0\", \"0\", \"0\", \"0\", \"0\", \"0\", \"0\", \"0\", \"0\", \"0\", \"0\", \"0\", \"0\", \"0\", \"0\", \"0\", \"0\", \"0\", \"0\", \"0\", \"0\"]}, {\"boxpoints\": false, \"line\": {\"width\": 1.3}, \"marker\": {\"color\": \"rgba(128, 177, 211, 1.0)\"}, \"name\": \"Animism\", \"orientation\": \"v\", \"type\": \"box\", \"uid\": \"9b4f33e1-bcea-44ae-a69e-2e1a603af9f6\", \"y\": [\"0\", \"0\", \"0\", \"0\", \"0\", \"0\", \"0\", \"0\", \"0\", 0.09, \"0\", \"0\", \"0\", \"0\", \"0\", \"0\", \"0\", \"0\", \"0\", \"0\", \"0\", \"0\", \"0\", \"0\", \"0\", \"0\", \"0\", \"0\", \"0\"]}, {\"boxpoints\": false, \"line\": {\"width\": 1.3}, \"marker\": {\"color\": \"rgba(128, 177, 211, 0.8999999999999999)\"}, \"name\": \"Sarnaism\", \"orientation\": \"v\", \"type\": \"box\", \"uid\": \"ebbf81e2-cc14-4591-aca4-04359ac8881c\", \"y\": [\"0\", \"0\", \"0\", \"0\", \"0\", \"0\", \"0\", \"0\", \"0\", \"0\", \"0\", 12.8, \"0\", \"0\", \"0\", \"0\", \"0\", \"0\", \"0\", \"0\", \"0\", \"0\", \"0\", \"0\", \"0\", 3.01, 1.14, \"0\", \"0\"]}, {\"boxpoints\": false, \"line\": {\"width\": 1.3}, \"marker\": {\"color\": \"rgba(255, 153, 51, 0.8999999999999999)\"}, \"name\": \"Atheist\", \"orientation\": \"v\", \"type\": \"box\", \"uid\": \"60797c1f-8f22-4ef2-a0ce-d157dc171cd7\", \"y\": [\"0\", \"0\", \"0\", \"0\", 0.001, \"0\", \"0\", \"0\", \"0\", \"0\", \"0\", \"0\", \"0\", \"0\", \"0\", \"0\", \"0\", \"0\", \"0\", \"0\", \"0\", \"0\", \"0\", \"0\", \"0\", \"0\", \"0\", 0.001, \"0\"]}, {\"boxpoints\": false, \"line\": {\"width\": 1.3}, \"marker\": {\"color\": \"rgba(55, 128, 191, 0.8999999999999999)\"}, \"name\": \"NONE\", \"orientation\": \"v\", \"type\": \"box\", \"uid\": \"ee87d332-d12b-4d2c-abe2-902b93ebd06e\", \"y\": [\"0\", 0.1, \"0\", \"0\", \"0\", \"0\", \"0\", 0.38, \"0\", \"0\", \"0\", 0.6, \"0\", \"0\", \"0\", \"0\", \"0\", \"0\", \"0\", \"0\", \"0\", \"0\", 0.1, 0.1, 0.13, \"0\", \"0\", \"0\", \"0\"]}, {\"boxpoints\": false, \"line\": {\"width\": 1.3}, \"marker\": {\"color\": \"rgba(50, 171, 96, 0.8999999999999999)\"}, \"name\": \"Sanamahism\", \"orientation\": \"v\", \"type\": \"box\", \"uid\": \"8941e898-3d74-47d0-a6fe-3bae3f9bc21c\", \"y\": [\"0\", \"0\", \"0\", \"0\", \"0\", \"0\", \"0\", 7.78, \"0\", \"0\", \"0\", \"0\", \"0\", \"0\", \"0\", \"0\", \"0\", \"0\", \"0\", \"0\", \"0\", \"0\", \"0\", \"0\", \"0\", \"0\", \"0\", \"0\", \"0\"]}, {\"boxpoints\": false, \"line\": {\"width\": 1.3}, \"marker\": {\"color\": \"rgba(128, 0, 128, 0.8999999999999999)\"}, \"name\": \"Others\", \"orientation\": \"v\", \"type\": \"box\", \"uid\": \"8e91fdf0-33a7-4aab-a9de-b23acbc1e324\", \"y\": [\"0\", \"0\", 0.35, \"0\", \"0\", \"0\", \"0\", \"0\", \"0\", \"0\", \"0\", \"0\", \"0\", \"0\", 0.3, \"0\", \"0\", \"0\", 0.13, \"0\", 0.18, \"0\", \"0\", 0.03, \"0\", \"0\", \"0\", \"0\", \"0\"]}, {\"boxpoints\": false, \"line\": {\"width\": 1.3}, \"marker\": {\"color\": \"rgba(219, 64, 82, 0.8999999999999999)\"}, \"name\": \"Tibetan\", \"orientation\": \"v\", \"type\": \"box\", \"uid\": \"6d38745c-5227-4c24-aeb3-46c77c0a6fca\", \"y\": [\"0\", \"0\", \"0\", \"0\", \"0\", 11.76, \"0\", \"0\", \"0\", \"0\", \"0\", \"0\", \"0\", \"0\", \"0\", \"0\", \"0\", \"0\", \"0\", \"0\", \"0\", \"0\", \"0\", \"0\", \"0\", \"0\", \"0\", \"0\", \"0\"]}, {\"boxpoints\": false, \"line\": {\"width\": 1.3}, \"marker\": {\"color\": \"rgba(0, 128, 128, 0.8999999999999999)\"}, \"name\": \"Irreligion\", \"orientation\": \"v\", \"type\": \"box\", \"uid\": \"43be41d9-f8e0-43c4-bf6a-e914769b74b1\", \"y\": [\"0\", \"0\", \"0\", \"0\", \"0\", \"0\", \"0\", \"0\", \"0\", \"0\", \"0\", \"0\", \"0\", 0.25, \"0\", \"0\", \"0\", \"0\", \"0\", \"0\", \"0\", \"0\", \"0\", \"0\", \"0\", \"0\", \"0\", \"0\", \"0\"]}, {\"boxpoints\": false, \"line\": {\"width\": 1.3}, \"marker\": {\"color\": \"rgba(255, 255, 51, 0.8999999999999999)\"}, \"name\": \"Heraka\", \"orientation\": \"v\", \"type\": \"box\", \"uid\": \"fde923ee-4ecb-424a-805d-5923e5df0967\", \"y\": [\"0\", \"0\", \"0\", \"0\", \"0\", \"0\", \"0\", 0.23, \"0\", \"0\", \"0\", \"0\", \"0\", \"0\", \"0\", \"0\", \"0\", \"0\", \"0\", \"0\", \"0\", \"0\", \"0\", \"0\", \"0\", \"0\", \"0\", \"0\", \"0\"]}, {\"boxpoints\": false, \"line\": {\"width\": 1.3}, \"marker\": {\"color\": \"rgba(128, 128, 0, 0.8999999999999999)\"}, \"name\": \"Donyi-Polo\", \"orientation\": \"v\", \"type\": \"box\", \"uid\": \"697e0c43-dec9-4568-b1da-6fe8eabc4517\", \"y\": [\"0\", \"0\", \"0\", \"0\", \"0\", 26.2, \"0\", \"0\", \"0\", \"0\", \"0\", \"0\", \"0\", \"0\", \"0\", \"0\", \"0\", \"0\", \"0\", \"0\", \"0\", \"0\", \"0\", \"0\", \"0\", \"0\", \"0\", \"0\", \"0\"]}, {\"boxpoints\": false, \"line\": {\"width\": 1.3}, \"marker\": {\"color\": \"rgba(251, 128, 114, 0.8999999999999999)\"}, \"name\": \"Atheism\", \"orientation\": \"v\", \"type\": \"box\", \"uid\": \"7ff89ed9-9622-4e6c-b578-3aa426bea468\", \"y\": [\"0\", \"0\", \"0\", 0.0, \"0\", \"0\", \"0\", \"0\", \"0\", \"0\", \"0\", \"0\", \"0\", \"0\", \"0\", \"0\", \"0\", \"0\", \"0\", \"0\", \"0\", \"0\", \"0\", \"0\", \"0\", \"0\", \"0\", \"0\", \"0\"]}, {\"boxpoints\": false, \"line\": {\"width\": 1.3}, \"marker\": {\"color\": \"rgba(251, 128, 114, 0.7999999999999998)\"}, \"name\": \"Tribal\", \"orientation\": \"v\", \"type\": \"box\", \"uid\": \"348aeb2a-ded5-4e7b-ab6e-f99f14d4695b\", \"y\": [\"0\", \"0\", 8.7, \"0\", \"0\", \"0\", \"0\", \"0\", \"0\", \"0\", \"0\", \"0\", \"0\", \"0\", \"0\", \"0\", \"0\", \"0\", \"0\", \"0\", \"0\", \"0\", \"0\", \"0\", \"0\", \"0\", \"0\", \"0\", \"0\"]}, {\"boxpoints\": false, \"line\": {\"width\": 1.3}, \"marker\": {\"color\": \"rgba(128, 177, 211, 0.7999999999999998)\"}, \"name\": \"Judaism\", \"orientation\": \"v\", \"type\": \"box\", \"uid\": \"0cd612f4-5c18-4777-a3fd-6b530d567627\", \"y\": [\"0\", \"0\", \"0\", \"0\", \"0\", \"0\", \"0\", 0.07, \"0\", \"0\", \"0\", \"0\", \"0\", \"0\", \"0\", \"0\", \"0\", \"0\", \"0\", \"0\", \"0\", \"0\", \"0\", \"0\", \"0\", \"0\", \"0\", \"0\", \"0\"]}],\n",
       "                        {\"legend\": {\"bgcolor\": \"#F5F6F9\", \"font\": {\"color\": \"#4D5663\"}}, \"paper_bgcolor\": \"#F5F6F9\", \"plot_bgcolor\": \"#F5F6F9\", \"title\": {\"font\": {\"color\": \"#4D5663\"}}, \"xaxis\": {\"gridcolor\": \"#E1E5ED\", \"showgrid\": true, \"tickfont\": {\"color\": \"#4D5663\"}, \"title\": {\"font\": {\"color\": \"#4D5663\"}, \"text\": \"\"}, \"zerolinecolor\": \"#E1E5ED\"}, \"yaxis\": {\"gridcolor\": \"#E1E5ED\", \"showgrid\": true, \"tickfont\": {\"color\": \"#4D5663\"}, \"title\": {\"font\": {\"color\": \"#4D5663\"}, \"text\": \"\"}, \"zerolinecolor\": \"#E1E5ED\"}},\n",
       "                        {\"showLink\": true, \"linkText\": \"Export to plot.ly\", \"plotlyServerURL\": \"https://plot.ly\", \"responsive\": true}\n",
       "                    ).then(function(){\n",
       "                            \n",
       "var gd = document.getElementById('866586a4-8b27-43ae-a4ca-cc9a0ddf5696');\n",
       "var x = new MutationObserver(function (mutations, observer) {{\n",
       "        var display = window.getComputedStyle(gd).display;\n",
       "        if (!display || display === 'none') {{\n",
       "            console.log([gd, 'removed!']);\n",
       "            Plotly.purge(gd);\n",
       "            observer.disconnect();\n",
       "        }}\n",
       "}});\n",
       "\n",
       "// Listen for the removal of the full notebook cells\n",
       "var notebookContainer = gd.closest('#notebook-container');\n",
       "if (notebookContainer) {{\n",
       "    x.observe(notebookContainer, {childList: true});\n",
       "}}\n",
       "\n",
       "// Listen for the clearing of the current output cell\n",
       "var outputEl = gd.closest('.output');\n",
       "if (outputEl) {{\n",
       "    x.observe(outputEl, {childList: true});\n",
       "}}\n",
       "\n",
       "                        })\n",
       "                };\n",
       "                });\n",
       "            </script>\n",
       "        </div>"
      ]
     },
     "metadata": {},
     "output_type": "display_data"
    }
   ],
   "source": [
    "df.iplot(kind='box')"
   ]
  },
  {
   "cell_type": "code",
   "execution_count": null,
   "metadata": {},
   "outputs": [],
   "source": []
  }
 ],
 "metadata": {
  "kernelspec": {
   "display_name": "Python 3",
   "language": "python",
   "name": "python3"
  },
  "language_info": {
   "codemirror_mode": {
    "name": "ipython",
    "version": 3
   },
   "file_extension": ".py",
   "mimetype": "text/x-python",
   "name": "python",
   "nbconvert_exporter": "python",
   "pygments_lexer": "ipython3",
   "version": "3.7.1"
  }
 },
 "nbformat": 4,
 "nbformat_minor": 2
}
